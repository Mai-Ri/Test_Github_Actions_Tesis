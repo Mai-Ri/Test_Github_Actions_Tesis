{
  "nbformat": 4,
  "nbformat_minor": 0,
  "metadata": {
    "colab": {
      "provenance": []
    },
    "kernelspec": {
      "name": "python3",
      "display_name": "Python 3"
    },
    "language_info": {
      "name": "python"
    }
  },
  "cells": [
    {
      "cell_type": "code",
      "execution_count": 17,
      "metadata": {
        "id": "9XwjwNoKv2Tv"
      },
      "outputs": [],
      "source": [
        "import polars as pl;\n",
        "import csv;"
      ]
    },
    {
      "cell_type": "markdown",
      "source": [
        "Carga de datos desde Drive"
      ],
      "metadata": {
        "id": "y8gzd3hfzgMa"
      }
    },
    {
      "cell_type": "code",
      "source": [
        "\n",
        "from google.colab import drive, files\n",
        "\n",
        "drive.mount('/content/drive')\n",
        "log_file_path = '/content/drive/My Drive/Colab_Folder/access.log'\n",
        "csv_file_path = '/content/drive/My Drive/Colab_Folder/archivo.csv'"
      ],
      "metadata": {
        "colab": {
          "base_uri": "https://localhost:8080/"
        },
        "id": "J0srswPzwmPo",
        "outputId": "0d696199-b4ef-4654-b9bd-d15e131ec756"
      },
      "execution_count": 18,
      "outputs": [
        {
          "output_type": "stream",
          "name": "stdout",
          "text": [
            "Drive already mounted at /content/drive; to attempt to forcibly remount, call drive.mount(\"/content/drive\", force_remount=True).\n"
          ]
        }
      ]
    },
    {
      "cell_type": "markdown",
      "source": [
        "Convierto el archivo .logs a .csv para poder trabajarlo con Polars"
      ],
      "metadata": {
        "id": "7dIkrMPozXR6"
      }
    },
    {
      "cell_type": "code",
      "source": [
        "# Abro el archivo original .log\n",
        "with open(log_file_path, 'r') as file:\n",
        "    log_data = file.readlines()\n",
        "\n",
        "# Los encabezados para el archivo .csv\n",
        "headers = [\"ip\", \"timestamp\", \"request_method\", \"url\", \"http_version\", \"status_code\", \"size\", \"user_agent\"]\n",
        "\n",
        "# Lo leo linea por linea y voy guardando la info en el archivo.csv\n",
        "with open(csv_file_path, 'w', newline='') as csvfile:\n",
        "    csvwriter = csv.writer(csvfile)\n",
        "    csvwriter.writerow(headers)\n",
        "\n",
        "    for line in log_data:\n",
        "        parts = line.split(' ')\n",
        "\n",
        "        try:\n",
        "            ip = parts[0]\n",
        "            timestamp = ' '.join(parts[3:5]).strip('[]')\n",
        "            request_method = parts[5].strip('\"') if parts[5] != '\"-\"' else None\n",
        "            url = parts[6] if len(parts) > 6 else None\n",
        "            http_version = parts[7].strip('\"') if len(parts) > 7 else None\n",
        "            status_code = int(parts[8]) if len(parts) > 8 and parts[8].isdigit() else None\n",
        "            size = int(parts[9]) if len(parts) > 9 and parts[9].isdigit() else None\n",
        "            user_agent = ' '.join(parts[11:]).strip('\"') if len(parts) > 11 else None\n",
        "\n",
        "            csvwriter.writerow([ip, timestamp, request_method, url, http_version, status_code, size, user_agent])\n",
        "\n",
        "        except (IndexError, ValueError) as e:\n",
        "            print(f\"Error procesando la línea: {line.strip()} - Error: {e}\")\n",
        "            csvwriter.writerow([ip, timestamp, None, None, None, None, None, None])"
      ],
      "metadata": {
        "id": "jdoXIs5PxogQ"
      },
      "execution_count": 19,
      "outputs": []
    },
    {
      "cell_type": "markdown",
      "source": [
        "## Funciones Auxiliares\n",
        "\n",
        "#### **filtrar_map_server:**\n",
        "MapServer es una plataforma de código abierto para publicar datos espaciales y aplicaciones interactivas de mapeo en la web.\n",
        "libcurl es una biblioteca utilizada por MapServer para manejar transferencias de datos a través de varios protocolos de red.\n",
        "\n",
        "---\n",
        "\n",
        "#### **filtar_wms:**\n",
        "Un WMS (Web Map Service) es un estándar desarrollado por el OGC (Open Geospatial Consortium) que permite la visualización de mapas georreferenciados a través de la web. Un servicio WMS puede devolver imágenes de mapas basadas en datos geográficos, y el documento de capacidades describe cómo se pueden solicitar estas imágenes y qué capas están disponibles.\n",
        "\n",
        "Dado que todas las solicitudes son muy cercanas en tiempo y provienen de la misma ip, se podría decir que: Un usuario hizo varias solicitudes consecutivas rápidamente. O, lo que es más probable, un script o un programa hizo esas solicitudes.\n",
        "\n",
        "---\n",
        "\n",
        "#### **filtrar_jcemediabox:**\n",
        "Estas URLs están asociadas con JCEMediaBox, un plugin de Joomla que facilita la incorporación de lightboxes para mostrar imágenes, vídeos y otros tipos de medios de una manera atractiva y funcional. Los archivos .js contienen el código JavaScript necesario para hacer funcionar el lightbox, mientras que los archivos .css contienen los estilos que determinan la apariencia del lightbox en la página web.\n",
        "\n",
        "---\n",
        "\n",
        "#### **filtrar_css y filtrar_js:**\n",
        "El objetivo de nuestro análisis es entender el tráfico relacionado con la funcionalidad del sitio y excluir contenido estático como .css y .js. Por lo que decidimos filtrar estos archivos. Si quisiéramos hacer un análisis más completo del tráfico, deberíamos mantener estos archivos.\n",
        "\n",
        "Pero los archivos .css y .js son muy frecuentes en los logs y filtrarlos puede reducir el \"ruido\" en los datos, permitiéndonos enfocarnos en las solicitudes más relevantes.\n"
      ],
      "metadata": {
        "id": "BaowLSgwzrz2"
      }
    },
    {
      "cell_type": "code",
      "source": [
        "# Funciones auxiliares - Limpieza de datos\n",
        "def filtrar_googlebot(df):\n",
        "    return df.filter(~pl.col(\"user_agent\").str.contains('Googlebot'))\n",
        "\n",
        "def filtrar_baiduspider(df):\n",
        "    return df.filter(~pl.col(\"user_agent\").str.contains('Baiduspider'))\n",
        "\n",
        "def filtrar_agesic_crawler(df):\n",
        "    return df.filter(~pl.col(\"user_agent\").str.contains('agesic-crawler'))\n",
        "\n",
        "def filtrar_robots_y_crawlers(df):\n",
        "    df = filtrar_googlebot(df)\n",
        "    df = filtrar_baiduspider(df)\n",
        "    df = filtrar_agesic_crawler(df)\n",
        "    return df\n",
        "\n",
        "def filtrar_map_server(df):\n",
        "    return df.filter(~pl.col(\"url\").str.contains('/wfsPCN1000.cgi'))\n",
        "\n",
        "def filtrar_wms(df):\n",
        "    return df.filter(~pl.col(\"url\").str.contains('SERVICE=WMS'))\n",
        "\n",
        "def filtrar_solicitudes_servicios_mapas(df):\n",
        "    df = filtrar_map_server(df)\n",
        "    df = filtrar_wms(df)\n",
        "    return df\n",
        "\n",
        "def filtar_jcemediabox(df):\n",
        "    return df.filter(~pl.col(\"url\").str.contains('/plugins/system/jcemediabox/'))\n",
        "\n",
        "def filtrar_css(df):\n",
        "    regex = r'\\.css$'\n",
        "    return df.filter(~pl.col(\"url\").str.contains(regex))\n",
        "\n",
        "def filtrar_js(df):\n",
        "    regex = r'\\.js$'\n",
        "    return df.filter(~pl.col(\"url\").str.contains(regex))\n",
        "\n",
        "def filtrar_png(df):\n",
        "    regex = r'\\.png$'\n",
        "    return df.filter(~pl.col(\"url\").str.contains(regex))\n",
        "\n",
        "def filtrar_jpg(df):\n",
        "    regex = r'\\.jpg$'\n",
        "    return df.filter(~pl.col(\"url\").str.contains(regex))\n",
        "\n",
        "def filtrar_gif(df):\n",
        "    regex = r'\\.gif$'\n",
        "    return df.filter(~pl.col(\"url\").str.contains(r'\\.gif$'))\n",
        "\n",
        "def filtrar_favicon(df):\n",
        "    regex = r'favicon\\.ico$'\n",
        "    return df.filter(~pl.col(\"url\").str.contains(r'favicon\\.ico$'))\n",
        "\n",
        "def filtrar_datos(df):\n",
        "    df = filtrar_robots_y_crawlers(df)\n",
        "    df = filtrar_solicitudes_servicios_mapas(df)\n",
        "    df = filtar_jcemediabox(df)\n",
        "    df = filtrar_css(df)\n",
        "    df = filtrar_js(df)\n",
        "    df = filtrar_png(df)\n",
        "    df = filtrar_jpg(df)\n",
        "    df = filtrar_gif(df)\n",
        "    df = filtrar_favicon(df)\n",
        "    return df\n",
        "\n",
        "def formatear_fecha(df):\n",
        "    return df.with_columns([pl.col(\"timestamp\").str.strptime(pl.Datetime, \"%d/%b/%Y:%H:%M:%S %z\", strict=False).alias(\"timestamp\")])\n",
        "\n",
        "# Funciones auxiliares - Páginas más visitadas\n",
        "\n",
        "def filtrar_URLs_vacias(df):\n",
        "    return df.filter(pl.col(\"url\").is_not_null())\n",
        "\n",
        "def count_frecuencia_url(df):\n",
        "    return df.group_by(\"url\").agg(pl.col(\"url\").count().alias(\"visit_count\"))\n"
      ],
      "metadata": {
        "id": "56awTJGcv-16"
      },
      "execution_count": 20,
      "outputs": []
    },
    {
      "cell_type": "markdown",
      "source": [
        "## Main"
      ],
      "metadata": {
        "id": "o5x339Hi0E1t"
      }
    },
    {
      "cell_type": "code",
      "source": [
        "df = pl.read_csv(csv_file_path)"
      ],
      "metadata": {
        "id": "P1uzJ-9rwFvG"
      },
      "execution_count": 21,
      "outputs": []
    },
    {
      "cell_type": "markdown",
      "source": [
        "#### Reconocimiento del data frame\n",
        "Veamos cómo está compuesto el dataframe"
      ],
      "metadata": {
        "id": "Ia6RqdFcrQVI"
      }
    },
    {
      "cell_type": "code",
      "source": [
        "df.schema"
      ],
      "metadata": {
        "colab": {
          "base_uri": "https://localhost:8080/"
        },
        "id": "1CXd953pq3Ci",
        "outputId": "e8309c98-4dc0-48a0-e98c-b923d84ddd73"
      },
      "execution_count": 22,
      "outputs": [
        {
          "output_type": "execute_result",
          "data": {
            "text/plain": [
              "OrderedDict([('ip', Utf8),\n",
              "             ('timestamp', Utf8),\n",
              "             ('request_method', Utf8),\n",
              "             ('url', Utf8),\n",
              "             ('http_version', Utf8),\n",
              "             ('status_code', Int64),\n",
              "             ('size', Int64),\n",
              "             ('user_agent', Utf8)])"
            ]
          },
          "metadata": {},
          "execution_count": 22
        }
      ]
    },
    {
      "cell_type": "markdown",
      "source": [
        "Mostramos las primeras 5 filas del dataframe"
      ],
      "metadata": {
        "id": "XLHZH3dnqqyh"
      }
    },
    {
      "cell_type": "code",
      "source": [
        "df.head(5)"
      ],
      "metadata": {
        "colab": {
          "base_uri": "https://localhost:8080/",
          "height": 255
        },
        "id": "hzCLgyokqtN9",
        "outputId": "1bbe42de-412f-41bc-8be5-c9aa28233cc5"
      },
      "execution_count": 23,
      "outputs": [
        {
          "output_type": "execute_result",
          "data": {
            "text/plain": [
              "shape: (5, 8)\n",
              "┌─────────────┬────────────┬────────────┬────────────┬────────────┬────────────┬──────┬────────────┐\n",
              "│ ip          ┆ timestamp  ┆ request_me ┆ url        ┆ http_versi ┆ status_cod ┆ size ┆ user_agent │\n",
              "│ ---         ┆ ---        ┆ thod       ┆ ---        ┆ on         ┆ e          ┆ ---  ┆ ---        │\n",
              "│ str         ┆ str        ┆ ---        ┆ str        ┆ ---        ┆ ---        ┆ i64  ┆ str        │\n",
              "│             ┆            ┆ str        ┆            ┆ str        ┆ i64        ┆      ┆            │\n",
              "╞═════════════╪════════════╪════════════╪════════════╪════════════╪════════════╪══════╪════════════╡\n",
              "│ 127.0.0.1   ┆ 02/Jun/201 ┆ OPTIONS    ┆ *          ┆ HTTP/1.0   ┆ 200        ┆ 167  ┆ Apache/2.2 │\n",
              "│             ┆ 3:06:48:17 ┆            ┆            ┆            ┆            ┆      ┆ .14        │\n",
              "│             ┆ -0300      ┆            ┆            ┆            ┆            ┆      ┆ (Ubuntu)   │\n",
              "│             ┆            ┆            ┆            ┆            ┆            ┆      ┆ (internal… │\n",
              "│ 127.0.0.1   ┆ 02/Jun/201 ┆ OPTIONS    ┆ *          ┆ HTTP/1.0   ┆ 200        ┆ 167  ┆ Apache/2.2 │\n",
              "│             ┆ 3:06:48:17 ┆            ┆            ┆            ┆            ┆      ┆ .14        │\n",
              "│             ┆ -0300      ┆            ┆            ┆            ┆            ┆      ┆ (Ubuntu)   │\n",
              "│             ┆            ┆            ┆            ┆            ┆            ┆      ┆ (internal… │\n",
              "│ 127.0.0.1   ┆ 02/Jun/201 ┆ OPTIONS    ┆ *          ┆ HTTP/1.0   ┆ 200        ┆ 167  ┆ Apache/2.2 │\n",
              "│             ┆ 3:06:48:17 ┆            ┆            ┆            ┆            ┆      ┆ .14        │\n",
              "│             ┆ -0300      ┆            ┆            ┆            ┆            ┆      ┆ (Ubuntu)   │\n",
              "│             ┆            ┆            ┆            ┆            ┆            ┆      ┆ (internal… │\n",
              "│ 180.76.5.15 ┆ 02/Jun/201 ┆ GET        ┆ /index.php ┆ HTTP/1.1   ┆ 200        ┆ 8842 ┆ Mozilla/5. │\n",
              "│ 0           ┆ 3:06:49:39 ┆            ┆ /component ┆            ┆            ┆      ┆ 0 (compati │\n",
              "│             ┆ -0300      ┆            ┆ /jevents/s ┆            ┆            ┆      ┆ ble;       │\n",
              "│             ┆            ┆            ┆ ea…        ┆            ┆            ┆      ┆ Baidusp…   │\n",
              "│ 190.64.2.16 ┆ 02/Jun/201 ┆ GET        ┆ /robots.tx ┆ HTTP/1.0   ┆ 200        ┆ 718  ┆ agesic-cra │\n",
              "│ 2           ┆ 3:06:51:40 ┆            ┆ t          ┆            ┆            ┆      ┆ wler (Ente │\n",
              "│             ┆ -0300      ┆            ┆            ┆            ┆            ┆      ┆ rprise;    │\n",
              "│             ┆            ┆            ┆            ┆            ┆            ┆      ┆ T3-R…      │\n",
              "└─────────────┴────────────┴────────────┴────────────┴────────────┴────────────┴──────┴────────────┘"
            ],
            "text/html": [
              "<div><style>\n",
              ".dataframe > thead > tr,\n",
              ".dataframe > tbody > tr {\n",
              "  text-align: right;\n",
              "  white-space: pre-wrap;\n",
              "}\n",
              "</style>\n",
              "<small>shape: (5, 8)</small><table border=\"1\" class=\"dataframe\"><thead><tr><th>ip</th><th>timestamp</th><th>request_method</th><th>url</th><th>http_version</th><th>status_code</th><th>size</th><th>user_agent</th></tr><tr><td>str</td><td>str</td><td>str</td><td>str</td><td>str</td><td>i64</td><td>i64</td><td>str</td></tr></thead><tbody><tr><td>&quot;127.0.0.1&quot;</td><td>&quot;02/Jun/2013:06…</td><td>&quot;OPTIONS&quot;</td><td>&quot;*&quot;</td><td>&quot;HTTP/1.0&quot;</td><td>200</td><td>167</td><td>&quot;Apache/2.2.14 …</td></tr><tr><td>&quot;127.0.0.1&quot;</td><td>&quot;02/Jun/2013:06…</td><td>&quot;OPTIONS&quot;</td><td>&quot;*&quot;</td><td>&quot;HTTP/1.0&quot;</td><td>200</td><td>167</td><td>&quot;Apache/2.2.14 …</td></tr><tr><td>&quot;127.0.0.1&quot;</td><td>&quot;02/Jun/2013:06…</td><td>&quot;OPTIONS&quot;</td><td>&quot;*&quot;</td><td>&quot;HTTP/1.0&quot;</td><td>200</td><td>167</td><td>&quot;Apache/2.2.14 …</td></tr><tr><td>&quot;180.76.5.150&quot;</td><td>&quot;02/Jun/2013:06…</td><td>&quot;GET&quot;</td><td>&quot;/index.php/com…</td><td>&quot;HTTP/1.1&quot;</td><td>200</td><td>8842</td><td>&quot;Mozilla/5.0 (c…</td></tr><tr><td>&quot;190.64.2.162&quot;</td><td>&quot;02/Jun/2013:06…</td><td>&quot;GET&quot;</td><td>&quot;/robots.txt&quot;</td><td>&quot;HTTP/1.0&quot;</td><td>200</td><td>718</td><td>&quot;agesic-crawler…</td></tr></tbody></table></div>"
            ]
          },
          "metadata": {},
          "execution_count": 23
        }
      ]
    },
    {
      "cell_type": "markdown",
      "source": [
        "Veremos con que cantidad de valores vacíos nos encontramos en el df"
      ],
      "metadata": {
        "id": "zEtMS5iZskfz"
      }
    },
    {
      "cell_type": "code",
      "source": [
        "cantidad_nulos = df.null_count()\n",
        "cantidad_nulos"
      ],
      "metadata": {
        "colab": {
          "base_uri": "https://localhost:8080/",
          "height": 129
        },
        "id": "Lq79UfJasoLK",
        "outputId": "07fc3871-d6cc-4bdd-c262-ea46538927b2"
      },
      "execution_count": 24,
      "outputs": [
        {
          "output_type": "execute_result",
          "data": {
            "text/plain": [
              "shape: (1, 8)\n",
              "┌─────┬───────────┬────────────────┬─────┬──────────────┬─────────────┬──────┬────────────┐\n",
              "│ ip  ┆ timestamp ┆ request_method ┆ url ┆ http_version ┆ status_code ┆ size ┆ user_agent │\n",
              "│ --- ┆ ---       ┆ ---            ┆ --- ┆ ---          ┆ ---         ┆ ---  ┆ ---        │\n",
              "│ u32 ┆ u32       ┆ u32            ┆ u32 ┆ u32          ┆ u32         ┆ u32  ┆ u32        │\n",
              "╞═════╪═══════════╪════════════════╪═════╪══════════════╪═════════════╪══════╪════════════╡\n",
              "│ 0   ┆ 0         ┆ 463            ┆ 0   ┆ 0            ┆ 464         ┆ 464  ┆ 464        │\n",
              "└─────┴───────────┴────────────────┴─────┴──────────────┴─────────────┴──────┴────────────┘"
            ],
            "text/html": [
              "<div><style>\n",
              ".dataframe > thead > tr,\n",
              ".dataframe > tbody > tr {\n",
              "  text-align: right;\n",
              "  white-space: pre-wrap;\n",
              "}\n",
              "</style>\n",
              "<small>shape: (1, 8)</small><table border=\"1\" class=\"dataframe\"><thead><tr><th>ip</th><th>timestamp</th><th>request_method</th><th>url</th><th>http_version</th><th>status_code</th><th>size</th><th>user_agent</th></tr><tr><td>u32</td><td>u32</td><td>u32</td><td>u32</td><td>u32</td><td>u32</td><td>u32</td><td>u32</td></tr></thead><tbody><tr><td>0</td><td>0</td><td>463</td><td>0</td><td>0</td><td>464</td><td>464</td><td>464</td></tr></tbody></table></div>"
            ]
          },
          "metadata": {},
          "execution_count": 24
        }
      ]
    },
    {
      "cell_type": "markdown",
      "source": [
        "#### Limpieza de nulos\n",
        "Vemos que hay una gran cantidad de celdas con valores en nulo, por lo que vamos a filtrar las filas que tienen valores vacíos en al menos una columna para poder visualizar algunos casos"
      ],
      "metadata": {
        "id": "bsABi-G9vzxb"
      }
    },
    {
      "cell_type": "code",
      "source": [
        "from functools import reduce\n",
        "\n",
        "mask = reduce(lambda a, b: a | b, [df[col].is_null() for col in df.columns])\n",
        "rows_con_nulos = df.filter(mask)\n",
        "rows_con_nulos.head(10)"
      ],
      "metadata": {
        "colab": {
          "base_uri": "https://localhost:8080/",
          "height": 412
        },
        "id": "sayRovTgvw5d",
        "outputId": "243db47a-f80a-4c0e-b4b5-5f1b78a42b24"
      },
      "execution_count": 25,
      "outputs": [
        {
          "output_type": "execute_result",
          "data": {
            "text/plain": [
              "shape: (10, 8)\n",
              "┌──────────────┬──────────────┬──────────────┬─────┬─────────────┬─────────────┬──────┬────────────┐\n",
              "│ ip           ┆ timestamp    ┆ request_meth ┆ url ┆ http_versio ┆ status_code ┆ size ┆ user_agent │\n",
              "│ ---          ┆ ---          ┆ od           ┆ --- ┆ n           ┆ ---         ┆ ---  ┆ ---        │\n",
              "│ str          ┆ str          ┆ ---          ┆ str ┆ ---         ┆ i64         ┆ i64  ┆ str        │\n",
              "│              ┆              ┆ str          ┆     ┆ str         ┆             ┆      ┆            │\n",
              "╞══════════════╪══════════════╪══════════════╪═════╪═════════════╪═════════════╪══════╪════════════╡\n",
              "│ 186.49.154.4 ┆ 02/Jun/2013: ┆ null         ┆ 408 ┆ 0           ┆ null        ┆ null ┆ null       │\n",
              "│ 4            ┆ 16:24:20     ┆              ┆     ┆             ┆             ┆      ┆            │\n",
              "│              ┆ -0300        ┆              ┆     ┆             ┆             ┆      ┆            │\n",
              "│ 66.249.82.10 ┆ 02/Jun/2013: ┆ null         ┆ 408 ┆ 0           ┆ null        ┆ null ┆ null       │\n",
              "│              ┆ 16:42:06     ┆              ┆     ┆             ┆             ┆      ┆            │\n",
              "│              ┆ -0300        ┆              ┆     ┆             ┆             ┆      ┆            │\n",
              "│ 186.49.154.4 ┆ 02/Jun/2013: ┆ null         ┆ 408 ┆ 0           ┆ null        ┆ null ┆ null       │\n",
              "│ 4            ┆ 16:51:04     ┆              ┆     ┆             ┆             ┆      ┆            │\n",
              "│              ┆ -0300        ┆              ┆     ┆             ┆             ┆      ┆            │\n",
              "│ 186.49.13.24 ┆ 02/Jun/2013: ┆ null         ┆ 408 ┆ 0           ┆ null        ┆ null ┆ null       │\n",
              "│ 1            ┆ 17:13:22     ┆              ┆     ┆             ┆             ┆      ┆            │\n",
              "│              ┆ -0300        ┆              ┆     ┆             ┆             ┆      ┆            │\n",
              "│ …            ┆ …            ┆ …            ┆ …   ┆ …           ┆ …           ┆ …    ┆ …          │\n",
              "│ 186.54.145.1 ┆ 02/Jun/2013: ┆ null         ┆ 408 ┆ 0           ┆ null        ┆ null ┆ null       │\n",
              "│ 92           ┆ 18:27:14     ┆              ┆     ┆             ┆             ┆      ┆            │\n",
              "│              ┆ -0300        ┆              ┆     ┆             ┆             ┆      ┆            │\n",
              "│ 186.54.145.1 ┆ 02/Jun/2013: ┆ null         ┆ 408 ┆ 0           ┆ null        ┆ null ┆ null       │\n",
              "│ 92           ┆ 18:27:14     ┆              ┆     ┆             ┆             ┆      ┆            │\n",
              "│              ┆ -0300        ┆              ┆     ┆             ┆             ┆      ┆            │\n",
              "│ 186.54.145.1 ┆ 02/Jun/2013: ┆ null         ┆ 408 ┆ 0           ┆ null        ┆ null ┆ null       │\n",
              "│ 92           ┆ 18:27:15     ┆              ┆     ┆             ┆             ┆      ┆            │\n",
              "│              ┆ -0300        ┆              ┆     ┆             ┆             ┆      ┆            │\n",
              "│ 186.54.145.1 ┆ 02/Jun/2013: ┆ null         ┆ 408 ┆ 0           ┆ null        ┆ null ┆ null       │\n",
              "│ 92           ┆ 18:28:12     ┆              ┆     ┆             ┆             ┆      ┆            │\n",
              "│              ┆ -0300        ┆              ┆     ┆             ┆             ┆      ┆            │\n",
              "└──────────────┴──────────────┴──────────────┴─────┴─────────────┴─────────────┴──────┴────────────┘"
            ],
            "text/html": [
              "<div><style>\n",
              ".dataframe > thead > tr,\n",
              ".dataframe > tbody > tr {\n",
              "  text-align: right;\n",
              "  white-space: pre-wrap;\n",
              "}\n",
              "</style>\n",
              "<small>shape: (10, 8)</small><table border=\"1\" class=\"dataframe\"><thead><tr><th>ip</th><th>timestamp</th><th>request_method</th><th>url</th><th>http_version</th><th>status_code</th><th>size</th><th>user_agent</th></tr><tr><td>str</td><td>str</td><td>str</td><td>str</td><td>str</td><td>i64</td><td>i64</td><td>str</td></tr></thead><tbody><tr><td>&quot;186.49.154.44&quot;</td><td>&quot;02/Jun/2013:16…</td><td>null</td><td>&quot;408&quot;</td><td>&quot;0&quot;</td><td>null</td><td>null</td><td>null</td></tr><tr><td>&quot;66.249.82.10&quot;</td><td>&quot;02/Jun/2013:16…</td><td>null</td><td>&quot;408&quot;</td><td>&quot;0&quot;</td><td>null</td><td>null</td><td>null</td></tr><tr><td>&quot;186.49.154.44&quot;</td><td>&quot;02/Jun/2013:16…</td><td>null</td><td>&quot;408&quot;</td><td>&quot;0&quot;</td><td>null</td><td>null</td><td>null</td></tr><tr><td>&quot;186.49.13.241&quot;</td><td>&quot;02/Jun/2013:17…</td><td>null</td><td>&quot;408&quot;</td><td>&quot;0&quot;</td><td>null</td><td>null</td><td>null</td></tr><tr><td>&quot;190.233.189.16…</td><td>&quot;02/Jun/2013:17…</td><td>null</td><td>&quot;408&quot;</td><td>&quot;0&quot;</td><td>null</td><td>null</td><td>null</td></tr><tr><td>&quot;190.233.189.16…</td><td>&quot;02/Jun/2013:17…</td><td>null</td><td>&quot;408&quot;</td><td>&quot;0&quot;</td><td>null</td><td>null</td><td>null</td></tr><tr><td>&quot;186.54.145.192…</td><td>&quot;02/Jun/2013:18…</td><td>null</td><td>&quot;408&quot;</td><td>&quot;0&quot;</td><td>null</td><td>null</td><td>null</td></tr><tr><td>&quot;186.54.145.192…</td><td>&quot;02/Jun/2013:18…</td><td>null</td><td>&quot;408&quot;</td><td>&quot;0&quot;</td><td>null</td><td>null</td><td>null</td></tr><tr><td>&quot;186.54.145.192…</td><td>&quot;02/Jun/2013:18…</td><td>null</td><td>&quot;408&quot;</td><td>&quot;0&quot;</td><td>null</td><td>null</td><td>null</td></tr><tr><td>&quot;186.54.145.192…</td><td>&quot;02/Jun/2013:18…</td><td>null</td><td>&quot;408&quot;</td><td>&quot;0&quot;</td><td>null</td><td>null</td><td>null</td></tr></tbody></table></div>"
            ]
          },
          "metadata": {},
          "execution_count": 25
        }
      ]
    },
    {
      "cell_type": "markdown",
      "source": [
        "Encontramos algo que nos llama la atención y es que están apareciendo algunos status code dentro de la columna de urls, lo podemos verificar con la siguiente consulta:"
      ],
      "metadata": {
        "id": "8NFIBOGd3tMY"
      }
    },
    {
      "cell_type": "code",
      "source": [
        "unique_status = df.select(\"url\").unique()\n",
        "print(unique_status.sort(\"url\", descending=True))"
      ],
      "metadata": {
        "colab": {
          "base_uri": "https://localhost:8080/"
        },
        "id": "90S2eN5-30nN",
        "outputId": "e54c241a-6713-48ce-ceb9-01c317fcb8c0"
      },
      "execution_count": 26,
      "outputs": [
        {
          "output_type": "stream",
          "name": "stdout",
          "text": [
            "shape: (28_677, 1)\n",
            "┌───────────────────────────────────┐\n",
            "│ url                               │\n",
            "│ ---                               │\n",
            "│ str                               │\n",
            "╞═══════════════════════════════════╡\n",
            "│ http://www.sina.com.cn/           │\n",
            "│ 408                               │\n",
            "│ 200                               │\n",
            "│ /wp-content/themes/Bold/timthumb… │\n",
            "│ …                                 │\n",
            "│ //admin/tting.php                 │\n",
            "│ /%7Bphocagallery%20view=category… │\n",
            "│ /                                 │\n",
            "│ *                                 │\n",
            "└───────────────────────────────────┘\n"
          ]
        }
      ]
    },
    {
      "cell_type": "markdown",
      "source": [
        "Vamos a filtrar las filas que contienen códigos de estado en la columna `url` para que que valores tienen esas filas"
      ],
      "metadata": {
        "id": "6USnmdth3_FU"
      }
    },
    {
      "cell_type": "code",
      "source": [
        "status_codes = [\"200\",\"408\"]\n",
        "urls_with_status_codes = df.filter(pl.col(\"url\").is_in(status_codes))\n",
        "\n",
        "print(urls_with_status_codes)"
      ],
      "metadata": {
        "colab": {
          "base_uri": "https://localhost:8080/"
        },
        "id": "mq7a-ZG0zcfU",
        "outputId": "02d69f31-0481-4dc6-9ee6-9131479a8eee"
      },
      "execution_count": 27,
      "outputs": [
        {
          "output_type": "stream",
          "name": "stdout",
          "text": [
            "shape: (464, 8)\n",
            "┌──────────────┬──────────────┬──────────────┬─────┬─────────────┬─────────────┬──────┬────────────┐\n",
            "│ ip           ┆ timestamp    ┆ request_meth ┆ url ┆ http_versio ┆ status_code ┆ size ┆ user_agent │\n",
            "│ ---          ┆ ---          ┆ od           ┆ --- ┆ n           ┆ ---         ┆ ---  ┆ ---        │\n",
            "│ str          ┆ str          ┆ ---          ┆ str ┆ ---         ┆ i64         ┆ i64  ┆ str        │\n",
            "│              ┆              ┆ str          ┆     ┆ str         ┆             ┆      ┆            │\n",
            "╞══════════════╪══════════════╪══════════════╪═════╪═════════════╪═════════════╪══════╪════════════╡\n",
            "│ 186.49.154.4 ┆ 02/Jun/2013: ┆ null         ┆ 408 ┆ 0           ┆ null        ┆ null ┆ null       │\n",
            "│ 4            ┆ 16:24:20     ┆              ┆     ┆             ┆             ┆      ┆            │\n",
            "│              ┆ -0300        ┆              ┆     ┆             ┆             ┆      ┆            │\n",
            "│ 66.249.82.10 ┆ 02/Jun/2013: ┆ null         ┆ 408 ┆ 0           ┆ null        ┆ null ┆ null       │\n",
            "│              ┆ 16:42:06     ┆              ┆     ┆             ┆             ┆      ┆            │\n",
            "│              ┆ -0300        ┆              ┆     ┆             ┆             ┆      ┆            │\n",
            "│ 186.49.154.4 ┆ 02/Jun/2013: ┆ null         ┆ 408 ┆ 0           ┆ null        ┆ null ┆ null       │\n",
            "│ 4            ┆ 16:51:04     ┆              ┆     ┆             ┆             ┆      ┆            │\n",
            "│              ┆ -0300        ┆              ┆     ┆             ┆             ┆      ┆            │\n",
            "│ 186.49.13.24 ┆ 02/Jun/2013: ┆ null         ┆ 408 ┆ 0           ┆ null        ┆ null ┆ null       │\n",
            "│ 1            ┆ 17:13:22     ┆              ┆     ┆             ┆             ┆      ┆            │\n",
            "│              ┆ -0300        ┆              ┆     ┆             ┆             ┆      ┆            │\n",
            "│ …            ┆ …            ┆ …            ┆ …   ┆ …           ┆ …           ┆ …    ┆ …          │\n",
            "│ 83.35.92.60  ┆ 08/Jun/2013: ┆ null         ┆ 408 ┆ 0           ┆ null        ┆ null ┆ null       │\n",
            "│              ┆ 18:43:11     ┆              ┆     ┆             ┆             ┆      ┆            │\n",
            "│              ┆ -0300        ┆              ┆     ┆             ┆             ┆      ┆            │\n",
            "│ 190.19.162.9 ┆ 08/Jun/2013: ┆ null         ┆ 408 ┆ 0           ┆ null        ┆ null ┆ null       │\n",
            "│              ┆ 22:03:28     ┆              ┆     ┆             ┆             ┆      ┆            │\n",
            "│              ┆ -0300        ┆              ┆     ┆             ┆             ┆      ┆            │\n",
            "│ 190.19.162.9 ┆ 08/Jun/2013: ┆ null         ┆ 408 ┆ 0           ┆ null        ┆ null ┆ null       │\n",
            "│              ┆ 22:03:28     ┆              ┆     ┆             ┆             ┆      ┆            │\n",
            "│              ┆ -0300        ┆              ┆     ┆             ┆             ┆      ┆            │\n",
            "│ 190.135.92.2 ┆ 09/Jun/2013: ┆ null         ┆ 408 ┆ 0           ┆ null        ┆ null ┆ null       │\n",
            "│ 04           ┆ 01:47:20     ┆              ┆     ┆             ┆             ┆      ┆            │\n",
            "│              ┆ -0300        ┆              ┆     ┆             ┆             ┆      ┆            │\n",
            "└──────────────┴──────────────┴──────────────┴─────┴─────────────┴─────────────┴──────┴────────────┘\n"
          ]
        }
      ]
    },
    {
      "cell_type": "markdown",
      "source": [
        "Investigando los casos null en profundidad nos encontramos con que son casos borde. Los de status 200 son casos con datos no legibles o anómalos y los de status 408 parecen ser una solicitud incompleta o malformada debido a un timeout en la solicitud, problemas de parte del cliente o error de red o conexión.\n",
        "\n",
        "Este tipo de entradas en los logs a menudo se descartan en análisis de tráfico web ya que no proporcionan datos útiles sobre las solicitudes válidas. Sin embargo, pueden ser útiles para detectar problemas de red o errores en los clientes.\n",
        "\n",
        "Por lo que vamos a filtrar las filas donde la columna `url` contenga los valores `200` o `408`"
      ],
      "metadata": {
        "id": "wBtfN2J1zTxk"
      }
    },
    {
      "cell_type": "code",
      "source": [
        "df_sin_nulos = df.filter(\n",
        "    ~pl.col(\"url\").str.contains('200') & ~pl.col(\"url\").str.contains('408')\n",
        ")\n",
        "\n",
        "print(df_sin_nulos)\n",
        "df_sin_nulos.write_csv(\"log_sin_nulos.csv\")"
      ],
      "metadata": {
        "colab": {
          "base_uri": "https://localhost:8080/"
        },
        "id": "XPeRsiNCIPEV",
        "outputId": "18f0d13d-7d16-4c58-8331-e1fd51888f76"
      },
      "execution_count": 28,
      "outputs": [
        {
          "output_type": "stream",
          "name": "stdout",
          "text": [
            "shape: (203_725, 8)\n",
            "┌─────────────┬────────────┬────────────┬────────────┬────────────┬────────────┬──────┬────────────┐\n",
            "│ ip          ┆ timestamp  ┆ request_me ┆ url        ┆ http_versi ┆ status_cod ┆ size ┆ user_agent │\n",
            "│ ---         ┆ ---        ┆ thod       ┆ ---        ┆ on         ┆ e          ┆ ---  ┆ ---        │\n",
            "│ str         ┆ str        ┆ ---        ┆ str        ┆ ---        ┆ ---        ┆ i64  ┆ str        │\n",
            "│             ┆            ┆ str        ┆            ┆ str        ┆ i64        ┆      ┆            │\n",
            "╞═════════════╪════════════╪════════════╪════════════╪════════════╪════════════╪══════╪════════════╡\n",
            "│ 127.0.0.1   ┆ 02/Jun/201 ┆ OPTIONS    ┆ *          ┆ HTTP/1.0   ┆ 200        ┆ 167  ┆ Apache/2.2 │\n",
            "│             ┆ 3:06:48:17 ┆            ┆            ┆            ┆            ┆      ┆ .14        │\n",
            "│             ┆ -0300      ┆            ┆            ┆            ┆            ┆      ┆ (Ubuntu)   │\n",
            "│             ┆            ┆            ┆            ┆            ┆            ┆      ┆ (internal… │\n",
            "│ 127.0.0.1   ┆ 02/Jun/201 ┆ OPTIONS    ┆ *          ┆ HTTP/1.0   ┆ 200        ┆ 167  ┆ Apache/2.2 │\n",
            "│             ┆ 3:06:48:17 ┆            ┆            ┆            ┆            ┆      ┆ .14        │\n",
            "│             ┆ -0300      ┆            ┆            ┆            ┆            ┆      ┆ (Ubuntu)   │\n",
            "│             ┆            ┆            ┆            ┆            ┆            ┆      ┆ (internal… │\n",
            "│ 127.0.0.1   ┆ 02/Jun/201 ┆ OPTIONS    ┆ *          ┆ HTTP/1.0   ┆ 200        ┆ 167  ┆ Apache/2.2 │\n",
            "│             ┆ 3:06:48:17 ┆            ┆            ┆            ┆            ┆      ┆ .14        │\n",
            "│             ┆ -0300      ┆            ┆            ┆            ┆            ┆      ┆ (Ubuntu)   │\n",
            "│             ┆            ┆            ┆            ┆            ┆            ┆      ┆ (internal… │\n",
            "│ 180.76.5.15 ┆ 02/Jun/201 ┆ GET        ┆ /index.php ┆ HTTP/1.1   ┆ 200        ┆ 8842 ┆ Mozilla/5. │\n",
            "│ 0           ┆ 3:06:49:39 ┆            ┆ /component ┆            ┆            ┆      ┆ 0 (compati │\n",
            "│             ┆ -0300      ┆            ┆ /jevents/s ┆            ┆            ┆      ┆ ble;       │\n",
            "│             ┆            ┆            ┆ ea…        ┆            ┆            ┆      ┆ Baidusp…   │\n",
            "│ …           ┆ …          ┆ …          ┆ …          ┆ …          ┆ …          ┆ …    ┆ …          │\n",
            "│ 127.0.0.1   ┆ 09/Jun/201 ┆ OPTIONS    ┆ *          ┆ HTTP/1.0   ┆ 200        ┆ 167  ┆ Apache/2.2 │\n",
            "│             ┆ 3:06:43:46 ┆            ┆            ┆            ┆            ┆      ┆ .14        │\n",
            "│             ┆ -0300      ┆            ┆            ┆            ┆            ┆      ┆ (Ubuntu)   │\n",
            "│             ┆            ┆            ┆            ┆            ┆            ┆      ┆ (internal… │\n",
            "│ 127.0.0.1   ┆ 09/Jun/201 ┆ OPTIONS    ┆ *          ┆ HTTP/1.0   ┆ 200        ┆ 167  ┆ Apache/2.2 │\n",
            "│             ┆ 3:06:43:46 ┆            ┆            ┆            ┆            ┆      ┆ .14        │\n",
            "│             ┆ -0300      ┆            ┆            ┆            ┆            ┆      ┆ (Ubuntu)   │\n",
            "│             ┆            ┆            ┆            ┆            ┆            ┆      ┆ (internal… │\n",
            "│ 127.0.0.1   ┆ 09/Jun/201 ┆ OPTIONS    ┆ *          ┆ HTTP/1.0   ┆ 200        ┆ 167  ┆ Apache/2.2 │\n",
            "│             ┆ 3:06:43:46 ┆            ┆            ┆            ┆            ┆      ┆ .14        │\n",
            "│             ┆ -0300      ┆            ┆            ┆            ┆            ┆      ┆ (Ubuntu)   │\n",
            "│             ┆            ┆            ┆            ┆            ┆            ┆      ┆ (internal… │\n",
            "│ 190.64.2.16 ┆ 09/Jun/201 ┆ GET        ┆ /index.php ┆ HTTP/1.0   ┆ 200        ┆ 9788 ┆ agesic-cra │\n",
            "│ 2           ┆ 3:06:43:46 ┆            ┆ /instituci ┆            ┆            ┆      ┆ wler (Ente │\n",
            "│             ┆ -0300      ┆            ┆ on/organig ┆            ┆            ┆      ┆ rprise;    │\n",
            "│             ┆            ┆            ┆ ra…        ┆            ┆            ┆      ┆ T2-F…      │\n",
            "└─────────────┴────────────┴────────────┴────────────┴────────────┴────────────┴──────┴────────────┘\n"
          ]
        }
      ]
    },
    {
      "cell_type": "markdown",
      "source": [
        "Verificamos que ya no hayan más casos de datos nulos"
      ],
      "metadata": {
        "id": "Q4lD86fjTMaj"
      }
    },
    {
      "cell_type": "code",
      "source": [
        "cantidad_nulos = df_sin_nulos.null_count()\n",
        "cantidad_nulos"
      ],
      "metadata": {
        "colab": {
          "base_uri": "https://localhost:8080/",
          "height": 129
        },
        "id": "9BjTzPYZTHlo",
        "outputId": "62825dae-6d50-48f7-caeb-3c5f2ac61299"
      },
      "execution_count": 29,
      "outputs": [
        {
          "output_type": "execute_result",
          "data": {
            "text/plain": [
              "shape: (1, 8)\n",
              "┌─────┬───────────┬────────────────┬─────┬──────────────┬─────────────┬──────┬────────────┐\n",
              "│ ip  ┆ timestamp ┆ request_method ┆ url ┆ http_version ┆ status_code ┆ size ┆ user_agent │\n",
              "│ --- ┆ ---       ┆ ---            ┆ --- ┆ ---          ┆ ---         ┆ ---  ┆ ---        │\n",
              "│ u32 ┆ u32       ┆ u32            ┆ u32 ┆ u32          ┆ u32         ┆ u32  ┆ u32        │\n",
              "╞═════╪═══════════╪════════════════╪═════╪══════════════╪═════════════╪══════╪════════════╡\n",
              "│ 0   ┆ 0         ┆ 0              ┆ 0   ┆ 0            ┆ 0           ┆ 0    ┆ 0          │\n",
              "└─────┴───────────┴────────────────┴─────┴──────────────┴─────────────┴──────┴────────────┘"
            ],
            "text/html": [
              "<div><style>\n",
              ".dataframe > thead > tr,\n",
              ".dataframe > tbody > tr {\n",
              "  text-align: right;\n",
              "  white-space: pre-wrap;\n",
              "}\n",
              "</style>\n",
              "<small>shape: (1, 8)</small><table border=\"1\" class=\"dataframe\"><thead><tr><th>ip</th><th>timestamp</th><th>request_method</th><th>url</th><th>http_version</th><th>status_code</th><th>size</th><th>user_agent</th></tr><tr><td>u32</td><td>u32</td><td>u32</td><td>u32</td><td>u32</td><td>u32</td><td>u32</td><td>u32</td></tr></thead><tbody><tr><td>0</td><td>0</td><td>0</td><td>0</td><td>0</td><td>0</td><td>0</td><td>0</td></tr></tbody></table></div>"
            ]
          },
          "metadata": {},
          "execution_count": 29
        }
      ]
    },
    {
      "cell_type": "markdown",
      "source": [
        "#### Limpieza de peticiones internas\n",
        "\n",
        "Es común que el servidor web realice solicitudes internas a sí mismo para verificar su configuración, comprobar capacidades o realizar tareas de mantenimiento. El uso de * en las solicitudes OPTIONS puede estar asociado con estas operaciones internas.\n",
        "\n",
        "La URL * en este contexto se refiere a una solicitud genérica que no está dirigida a una URL específica. En el caso de los métodos OPTIONS, * puede estar siendo usado para indicar que la solicitud no está dirigida a un recurso específico o es un marcador de posición para una solicitud interna del servidor.\n",
        "\n",
        "Dado que las solicitudes provienen de 127.0.0.1 (localhost), parece que estas solicitudes son internas, probablemente generadas por el propio servidor para comprobar su configuración o para otros fines administrativos"
      ],
      "metadata": {
        "id": "KhbxLWYQdoBY"
      }
    },
    {
      "cell_type": "code",
      "source": [
        "df_no_peticiones_internas = df_sin_nulos.filter(\n",
        "    ~((pl.col(\"ip\") == \"127.0.0.1\") & (pl.col(\"request_method\") == \"OPTIONS\") & (pl.col(\"url\") == \"*\"))\n",
        ")\n",
        "\n",
        "print(df_no_peticiones_internas.head(10))"
      ],
      "metadata": {
        "colab": {
          "base_uri": "https://localhost:8080/"
        },
        "id": "4TP1-mQAdyut",
        "outputId": "6ecc8ad6-5cad-4d24-c384-aa373544b9ad"
      },
      "execution_count": 30,
      "outputs": [
        {
          "output_type": "stream",
          "name": "stdout",
          "text": [
            "shape: (10, 8)\n",
            "┌─────────────┬────────────┬────────────┬────────────┬────────────┬────────────┬──────┬────────────┐\n",
            "│ ip          ┆ timestamp  ┆ request_me ┆ url        ┆ http_versi ┆ status_cod ┆ size ┆ user_agent │\n",
            "│ ---         ┆ ---        ┆ thod       ┆ ---        ┆ on         ┆ e          ┆ ---  ┆ ---        │\n",
            "│ str         ┆ str        ┆ ---        ┆ str        ┆ ---        ┆ ---        ┆ i64  ┆ str        │\n",
            "│             ┆            ┆ str        ┆            ┆ str        ┆ i64        ┆      ┆            │\n",
            "╞═════════════╪════════════╪════════════╪════════════╪════════════╪════════════╪══════╪════════════╡\n",
            "│ 180.76.5.15 ┆ 02/Jun/201 ┆ GET        ┆ /index.php ┆ HTTP/1.1   ┆ 200        ┆ 8842 ┆ Mozilla/5. │\n",
            "│ 0           ┆ 3:06:49:39 ┆            ┆ /component ┆            ┆            ┆      ┆ 0 (compati │\n",
            "│             ┆ -0300      ┆            ┆ /jevents/s ┆            ┆            ┆      ┆ ble;       │\n",
            "│             ┆            ┆            ┆ ea…        ┆            ┆            ┆      ┆ Baidusp…   │\n",
            "│ 190.64.2.16 ┆ 02/Jun/201 ┆ GET        ┆ /robots.tx ┆ HTTP/1.0   ┆ 200        ┆ 718  ┆ agesic-cra │\n",
            "│ 2           ┆ 3:06:51:40 ┆            ┆ t          ┆            ┆            ┆      ┆ wler (Ente │\n",
            "│             ┆ -0300      ┆            ┆            ┆            ┆            ┆      ┆ rprise;    │\n",
            "│             ┆            ┆            ┆            ┆            ┆            ┆      ┆ T3-R…      │\n",
            "│ 190.64.2.16 ┆ 02/Jun/201 ┆ GET        ┆ /index.php ┆ HTTP/1.0   ┆ 200        ┆ 9471 ┆ agesic-cra │\n",
            "│ 2           ┆ 3:06:51:40 ┆            ┆ /component ┆            ┆            ┆      ┆ wler (Ente │\n",
            "│             ┆ -0300      ┆            ┆ /jevents/m ┆            ┆            ┆      ┆ rprise;    │\n",
            "│             ┆            ┆            ┆ on…        ┆            ┆            ┆      ┆ T3-R…      │\n",
            "│ 190.64.2.16 ┆ 02/Jun/201 ┆ GET        ┆ /robots.tx ┆ HTTP/1.0   ┆ 200        ┆ 718  ┆ agesic-cra │\n",
            "│ 2           ┆ 3:06:51:42 ┆            ┆ t          ┆            ┆            ┆      ┆ wler (Ente │\n",
            "│             ┆ -0300      ┆            ┆            ┆            ┆            ┆      ┆ rprise;    │\n",
            "│             ┆            ┆            ┆            ┆            ┆            ┆      ┆ T3-R…      │\n",
            "│ …           ┆ …          ┆ …          ┆ …          ┆ …          ┆ …          ┆ …    ┆ …          │\n",
            "│ 190.64.2.16 ┆ 02/Jun/201 ┆ GET        ┆ /index.php ┆ HTTP/1.0   ┆ 200        ┆ 9476 ┆ agesic-cra │\n",
            "│ 2           ┆ 3:06:51:44 ┆            ┆ /component ┆            ┆            ┆      ┆ wler (Ente │\n",
            "│             ┆ -0300      ┆            ┆ /jevents/m ┆            ┆            ┆      ┆ rprise;    │\n",
            "│             ┆            ┆            ┆ on…        ┆            ┆            ┆      ┆ T3-R…      │\n",
            "│ 190.64.2.16 ┆ 02/Jun/201 ┆ GET        ┆ /robots.tx ┆ HTTP/1.0   ┆ 200        ┆ 718  ┆ agesic-cra │\n",
            "│ 2           ┆ 3:06:51:48 ┆            ┆ t          ┆            ┆            ┆      ┆ wler (Ente │\n",
            "│             ┆ -0300      ┆            ┆            ┆            ┆            ┆      ┆ rprise;    │\n",
            "│             ┆            ┆            ┆            ┆            ┆            ┆      ┆ T3-R…      │\n",
            "│ 190.64.2.16 ┆ 02/Jun/201 ┆ GET        ┆ /index.php ┆ HTTP/1.0   ┆ 200        ┆ 9490 ┆ agesic-cra │\n",
            "│ 2           ┆ 3:06:51:48 ┆            ┆ /component ┆            ┆            ┆      ┆ wler (Ente │\n",
            "│             ┆ -0300      ┆            ┆ /jevents/m ┆            ┆            ┆      ┆ rprise;    │\n",
            "│             ┆            ┆            ┆ on…        ┆            ┆            ┆      ┆ T3-R…      │\n",
            "│ 190.64.2.16 ┆ 02/Jun/201 ┆ GET        ┆ /robots.tx ┆ HTTP/1.0   ┆ 200        ┆ 718  ┆ agesic-cra │\n",
            "│ 2           ┆ 3:06:51:50 ┆            ┆ t          ┆            ┆            ┆      ┆ wler (Ente │\n",
            "│             ┆ -0300      ┆            ┆            ┆            ┆            ┆      ┆ rprise;    │\n",
            "│             ┆            ┆            ┆            ┆            ┆            ┆      ┆ T3-R…      │\n",
            "└─────────────┴────────────┴────────────┴────────────┴────────────┴────────────┴──────┴────────────┘\n"
          ]
        }
      ]
    },
    {
      "cell_type": "markdown",
      "source": [
        "#### Limpieza de datos estáticos\n",
        "Los archivos estáticos como .css o .png a menudo no contienen información crítica para el análisis de tráfico web o para la detección de problemas específicos en el comportamiento del usuario. Además muchas veces, los archivos estáticos son solicitados por bots o sistemas automatizados.\n",
        "\n",
        "Datos innecesarios o erróneos pueden aumentar el tamaño de los datasets, haciendo que el procesamiento sea más lento. Limpiar los datos reduce el tamaño y mejora la eficiencia del procesamiento."
      ],
      "metadata": {
        "id": "oBbBrVqlSx14"
      }
    },
    {
      "cell_type": "code",
      "source": [
        "# Limpieza de datos\n",
        "df_filtrado = filtrar_datos(df_no_peticiones_internas)\n",
        "df_limpio = formatear_fecha(df_filtrado)\n",
        "#print(df_cleaned) # .glimpse() para ver string completo\n",
        "\n",
        "df_limpio.write_csv(\"log_limpio.csv\")"
      ],
      "metadata": {
        "id": "Z2OOMJuo4eWS"
      },
      "execution_count": 35,
      "outputs": []
    },
    {
      "cell_type": "markdown",
      "source": [
        "### Métricas"
      ],
      "metadata": {
        "id": "GsmU_7v_Zfph"
      }
    },
    {
      "cell_type": "markdown",
      "source": [
        "**Páginas más visitadas**"
      ],
      "metadata": {
        "id": "al-PXsJshAXW"
      }
    },
    {
      "cell_type": "code",
      "source": [
        "df_frecuencia_url_ordenado = count_frecuencia_url(filtrar_URLs_vacias(df_limpio)).sort(\"visit_count\", descending=True)\n",
        "df_frecuencia_url_ordenado.head(10)\n",
        "\n",
        "df_frecuencia_url_ordenado.write_csv(\"frecuencia_paginas_visitadas.csv\")\n",
        "#df_frecuencia_url_ordenado.top_k(10, by=\"visit_count\")"
      ],
      "metadata": {
        "id": "DCW8rmViZio3"
      },
      "execution_count": 32,
      "outputs": []
    },
    {
      "cell_type": "markdown",
      "source": [
        "**Correlación entre códigos de error y urls**\n",
        "\n",
        "Primero obtengo un listado de los códigos de error de la familia 400 y 500 que encontramos en nuestros logs.\n",
        "\n",
        "Luego, sabiendo dicho listado, procedemos a trabajar con ellos. Debido a que las URLs son datos categóricos, fue necesario codificarlas en forma numérica para poder calcular la correlación"
      ],
      "metadata": {
        "id": "D7x0Fu7Zkcwp"
      }
    },
    {
      "cell_type": "code",
      "source": [
        "import numpy as np\n",
        "import seaborn as sns\n",
        "import matplotlib.pyplot as plt\n",
        "\n",
        "df_errores = df_limpio.filter(pl.col(\"status_code\").str.contains(r\"^4|^5\"))\n",
        "url_error_counts = df_errores.groupby(\"url\").agg(pl.count(\"status_code\").alias(\"error_count\"))\n",
        "\n",
        "url_encoded = url_error_counts.with_columns(\n",
        "    pl.col(\"url\").cum_count().alias(\"url_id\")\n",
        ")\n",
        "error_frequencies = url_encoded.select([\"url_id\", \"error_count\"])\n",
        "error_frequencies_df = error_frequencies.to_pandas()\n",
        "\n",
        "correlation_matrix = error_frequencies_df.corr()\n",
        "\n",
        "plt.figure(figsize=(10, 8))\n",
        "sns.heatmap(correlation_matrix, annot=True, cmap='coolwarm', fmt='.2f', vmin=-1, vmax=1)\n",
        "plt.title('Matriz de Correlación entre URLs y Conteos de Errores')\n",
        "plt.show()\n"
      ],
      "metadata": {
        "colab": {
          "base_uri": "https://localhost:8080/",
          "height": 734
        },
        "id": "uktJb9IunXHo",
        "outputId": "2665b2f9-0e27-4ee1-d228-0869584adb7b"
      },
      "execution_count": 46,
      "outputs": [
        {
          "output_type": "stream",
          "name": "stderr",
          "text": [
            "<ipython-input-46-0d48761eb1f8>:6: DeprecationWarning: `groupby` is deprecated. It has been renamed to `group_by`.\n",
            "  url_error_counts = df_errores.groupby(\"url\").agg(pl.count(\"status_code\").alias(\"error_count\"))\n"
          ]
        },
        {
          "output_type": "display_data",
          "data": {
            "text/plain": [
              "<Figure size 1000x800 with 2 Axes>"
            ],
            "image/png": "[encoded data removed]"
          },
          "metadata": {}
        }
      ]
    }
  ]
}