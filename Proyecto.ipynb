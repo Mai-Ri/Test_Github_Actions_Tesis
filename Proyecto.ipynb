{
  "nbformat": 4,
  "nbformat_minor": 0,
  "metadata": {
    "colab": {
      "provenance": []
    },
    "kernelspec": {
      "name": "python3",
      "display_name": "Python 3"
    },
    "language_info": {
      "name": "python"
    }
  },
  "cells": [
    {
      "cell_type": "code",
      "execution_count": 1,
      "metadata": {
        "id": "9XwjwNoKv2Tv"
      },
      "outputs": [],
      "source": [
        "import polars as pl;\n",
        "import csv;"
      ]
    },
    {
      "cell_type": "markdown",
      "source": [
        "Carga de datos desde Drive"
      ],
      "metadata": {
        "id": "y8gzd3hfzgMa"
      }
    },
    {
      "cell_type": "code",
      "source": [
        "\n",
        "from google.colab import drive, files\n",
        "\n",
        "drive.mount('/content/drive')\n",
        "log_file_path = '/content/drive/My Drive/Colab_Folder/access.log'\n",
        "csv_file_path = '/content/drive/My Drive/Colab_Folder/archivo.csv'"
      ],
      "metadata": {
        "colab": {
          "base_uri": "https://localhost:8080/"
        },
        "id": "J0srswPzwmPo",
        "outputId": "5569b82b-4686-42f1-9630-bc66d929737a"
      },
      "execution_count": 2,
      "outputs": [
        {
          "output_type": "stream",
          "name": "stdout",
          "text": [
            "Mounted at /content/drive\n"
          ]
        }
      ]
    },
    {
      "cell_type": "markdown",
      "source": [
        "Convierto el archivo .logs a .csv para poder trabajarlo con Polars"
      ],
      "metadata": {
        "id": "7dIkrMPozXR6"
      }
    },
    {
      "cell_type": "code",
      "source": [
        "# Abro el archivo original .log\n",
        "with open(log_file_path, 'r') as file:\n",
        "    log_data = file.readlines()\n",
        "\n",
        "# Los encabezados para el archivo .csv\n",
        "headers = [\"ip\", \"timestamp\", \"request_method\", \"url\", \"http_version\", \"status_code\", \"size\", \"user_agent\"]\n",
        "\n",
        "# Lo leo linea por linea y voy guardando la info en el archivo.csv\n",
        "with open(csv_file_path, 'w', newline='') as csvfile:\n",
        "    csvwriter = csv.writer(csvfile)\n",
        "    csvwriter.writerow(headers)\n",
        "\n",
        "    for line in log_data:\n",
        "        parts = line.split(' ')\n",
        "\n",
        "        try:\n",
        "            ip = parts[0]\n",
        "            timestamp = ' '.join(parts[3:5]).strip('[]')\n",
        "            request_method = parts[5].strip('\"') if parts[5] != '\"-\"' else None\n",
        "            url = parts[6] if len(parts) > 6 else None\n",
        "            http_version = parts[7].strip('\"') if len(parts) > 7 else None\n",
        "            status_code = int(parts[8]) if len(parts) > 8 and parts[8].isdigit() else None\n",
        "            size = int(parts[9]) if len(parts) > 9 and parts[9].isdigit() else None\n",
        "            user_agent = ' '.join(parts[11:]).strip('\"') if len(parts) > 11 else None\n",
        "\n",
        "            csvwriter.writerow([ip, timestamp, request_method, url, http_version, status_code, size, user_agent])\n",
        "\n",
        "        except (IndexError, ValueError) as e:\n",
        "            print(f\"Error procesando la línea: {line.strip()} - Error: {e}\")\n",
        "            csvwriter.writerow([ip, timestamp, None, None, None, None, None, None])"
      ],
      "metadata": {
        "id": "jdoXIs5PxogQ"
      },
      "execution_count": 3,
      "outputs": []
    },
    {
      "cell_type": "markdown",
      "source": [
        "### Funciones Auxiliares\n",
        "\n",
        "#### **filtrar_map_server:**\n",
        "MapServer es una plataforma de código abierto para publicar datos espaciales y aplicaciones interactivas de mapeo en la web.\n",
        "libcurl es una biblioteca utilizada por MapServer para manejar transferencias de datos a través de varios protocolos de red.\n",
        "\n",
        "---\n",
        "\n",
        "#### **filtar_wms:**\n",
        "Un WMS (Web Map Service) es un estándar desarrollado por el OGC (Open Geospatial Consortium) que permite la visualización de mapas georreferenciados a través de la web. Un servicio WMS puede devolver imágenes de mapas basadas en datos geográficos, y el documento de capacidades describe cómo se pueden solicitar estas imágenes y qué capas están disponibles.\n",
        "\n",
        "Dado que todas las solicitudes son muy cercanas en tiempo y provienen de la misma ip, se podría decir que: Un usuario hizo varias solicitudes consecutivas rápidamente. O, lo que es más probable, un script o un programa hizo esas solicitudes.\n",
        "\n",
        "---\n",
        "\n",
        "#### **filtrar_jcemediabox:**\n",
        "Estas URLs están asociadas con JCEMediaBox, un plugin de Joomla que facilita la incorporación de lightboxes para mostrar imágenes, vídeos y otros tipos de medios de una manera atractiva y funcional. Los archivos .js contienen el código JavaScript necesario para hacer funcionar el lightbox, mientras que los archivos .css contienen los estilos que determinan la apariencia del lightbox en la página web."
      ],
      "metadata": {
        "id": "BaowLSgwzrz2"
      }
    },
    {
      "cell_type": "code",
      "source": [
        "def filtrar_googlebot(df):\n",
        "    return df.filter(~pl.col(\"user_agent\").str.contains('Googlebot'))\n",
        "\n",
        "def filtrar_baiduspider(df):\n",
        "    return df.filter(~pl.col(\"user_agent\").str.contains('Baiduspider'))\n",
        "\n",
        "def filtrar_agesic_crawler(df):\n",
        "    return df.filter(~pl.col(\"user_agent\").str.contains('agesic-crawler'))\n",
        "\n",
        "def filtrar_robots_y_crawlers(df):\n",
        "    df = filtrar_googlebot(df)\n",
        "    df = filtrar_baiduspider(df)\n",
        "    df = filtrar_agesic_crawler(df)\n",
        "    return df\n",
        "\n",
        "def filtrar_map_server(df):\n",
        "    return df.filter(~pl.col(\"url\").str.contains('/wfsPCN1000.cgi'))\n",
        "\n",
        "def filtrar_wms(df):\n",
        "    return df.filter(~pl.col(\"url\").str.contains('SERVICE=WMS'))\n",
        "\n",
        "def filtrar_solicitudes_servicios_mapas(df):\n",
        "    df = filtrar_map_server(df)\n",
        "    df = filtrar_wms(df)\n",
        "    return df\n",
        "\n",
        "def filtar_jcemediabox(df):\n",
        "    return df.filter(~pl.col(\"url\").str.contains('/plugins/system/jcemediabox/'))\n",
        "\n",
        "def filtrar_datos(df):\n",
        "    df = filtrar_robots_y_crawlers(df)\n",
        "    df = filtrar_solicitudes_servicios_mapas(df)\n",
        "    df = filtar_jcemediabox(df)\n",
        "    return df\n",
        "\n",
        "def filtrar_URLs_vacias(df):\n",
        "    return df.filter(pl.col(\"url\").is_not_null())\n",
        "\n",
        "def count_frecuencia_url(df):\n",
        "    return df.group_by(\"url\").agg(pl.col(\"url\").count().alias(\"visit_count\"))\n",
        "\n",
        "def formatear_fecha(df):\n",
        "    return df.with_columns([pl.col(\"timestamp\").str.strptime(pl.Datetime, \"%d/%b/%Y:%H:%M:%S %z\", strict=False).alias(\"timestamp\")])\n"
      ],
      "metadata": {
        "id": "56awTJGcv-16"
      },
      "execution_count": 28,
      "outputs": []
    },
    {
      "cell_type": "markdown",
      "source": [
        "### Main"
      ],
      "metadata": {
        "id": "o5x339Hi0E1t"
      }
    },
    {
      "cell_type": "code",
      "source": [
        "df = pl.read_csv(csv_file_path)\n",
        "\n",
        "# Limpieza de datos\n",
        "df_filtrado = filtrar_datos(df)\n",
        "df_cleaned = formatear_fecha(df_filtrado)\n",
        "#print(df_cleaned) # .glimpse() para ver string completo\n",
        "\n",
        "# Páginas más visitadas\n",
        "df_frecuencia_url_ordenado = count_frecuencia_url(filtrar_URLs_vacias(df_cleaned)).sort(\"visit_count\", descending=True)\n",
        "df_frecuencia_url_ordenado.head(10).glimpse()\n",
        "#df_frecuencia_url_ordenado.top_k(10, by=\"visit_count\")"
      ],
      "metadata": {
        "colab": {
          "base_uri": "https://localhost:8080/"
        },
        "id": "P1uzJ-9rwFvG",
        "outputId": "ea776679-be99-46f6-92e4-fc8bf8b61ffd"
      },
      "execution_count": 33,
      "outputs": [
        {
          "output_type": "stream",
          "name": "stdout",
          "text": [
            "Rows: 10\n",
            "Columns: 2\n",
            "$ url         <str> '*', '/', '/map.phtml', '/templates/system/css/general.css', '/templates/system/css/system.css', '/media/system/js/mootools-more.js', '/plugins/system/jat3/jat3/base-themes/default/css/typo.css', '/plugins/system/jat3/jat3/base-themes/default/css/addons.css', '/templates/bt_arise/css/typo.css', '/templates/bt_arise/js/jquery-1.6.2.min.js'\n",
            "$ visit_count <u32> 5386, 2822, 841, 652, 651, 650, 649, 648, 647, 642\n",
            "\n"
          ]
        }
      ]
    }
  ]
}